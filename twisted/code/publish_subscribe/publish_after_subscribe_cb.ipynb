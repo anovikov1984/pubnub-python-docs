{
 "cells": [
  {
   "cell_type": "code",
   "execution_count": 1,
   "metadata": {
    "collapsed": false
   },
   "outputs": [],
   "source": [
    "import logging\n",
    "import pubnub\n",
    "\n",
    "from pubnub.callbacks import SubscribeCallback\n",
    "from pubnub.enums import PNStatusCategory\n",
    "from pubnub.pnconfiguration import PNConfiguration\n",
    "from pubnub.pubnub_twisted import PubNubTwisted\n",
    "\n",
    "from twisted.internet import reactor\n",
    "\n",
    "# pubnub.set_stream_logger('pubnub', logging.DEBUG)\n",
    "\n",
    "pnconfig = PNConfiguration()\n",
    "\n",
    "pnconfig.publish_key = \"demo\"\n",
    "pnconfig.subscribe_key = \"demo\"\n",
    "\n",
    "pubnub = PubNubTwisted(pnconfig)\n",
    "\n",
    "def publish_callback(envelope):\n",
    "    print('Publish Callback!')\n",
    "    pubnub.stop()\n",
    "\n",
    "class MyListener(SubscribeCallback):\n",
    "    def status(self, pubnub, status):\n",
    "        if status.category == PNStatusCategory.PNConnectedCategory:\n",
    "            d = pubnub.publish().channel(\"awesomeChannel\").message({'fieldA': 'awesome', 'fieldB': 10}).deferred()\n",
    "            d.addCallback(publish_callback)\n",
    "\n",
    "    def message(self, pubnub, message):\n",
    "        pass\n",
    "\n",
    "    def presence(self, pubnub, presence):\n",
    "        pass"
   ]
  },
  {
   "cell_type": "code",
   "execution_count": 2,
   "metadata": {
    "collapsed": false
   },
   "outputs": [],
   "source": [
    "my_listener = MyListener()"
   ]
  },
  {
   "cell_type": "code",
   "execution_count": 3,
   "metadata": {
    "collapsed": false
   },
   "outputs": [],
   "source": [
    "pubnub.add_listener(my_listener)"
   ]
  },
  {
   "cell_type": "code",
   "execution_count": 4,
   "metadata": {
    "collapsed": false
   },
   "outputs": [],
   "source": [
    "pubnub.subscribe().channels(\"awesomeChannel\").execute()\n"
   ]
  },
  {
   "cell_type": "code",
   "execution_count": 5,
   "metadata": {
    "collapsed": false
   },
   "outputs": [
    {
     "name": "stdout",
     "output_type": "stream",
     "text": [
      "Publish Callback!\n"
     ]
    }
   ],
   "source": [
    "pubnub.start()"
   ]
  }
 ],
 "metadata": {
  "kernelspec": {
   "display_name": "Python [Root]",
   "language": "python",
   "name": "Python [Root]"
  },
  "language_info": {
   "codemirror_mode": {
    "name": "ipython",
    "version": 2
   },
   "file_extension": ".py",
   "mimetype": "text/x-python",
   "name": "python",
   "nbconvert_exporter": "python",
   "pygments_lexer": "ipython2",
   "version": "2.7.12"
  }
 },
 "nbformat": 4,
 "nbformat_minor": 0
}
