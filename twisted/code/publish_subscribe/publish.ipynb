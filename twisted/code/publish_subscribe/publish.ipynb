{
 "cells": [
  {
   "cell_type": "code",
   "execution_count": 1,
   "metadata": {
    "collapsed": false
   },
   "outputs": [],
   "source": [
    "from pubnub.pnconfiguration import PNConfiguration\n",
    "from pubnub.pubnub_twisted import PubNubTwisted\n",
    "\n",
    "from twisted.internet.defer import inlineCallbacks\n",
    "\n",
    "pnconfig = PNConfiguration()\n",
    "\n",
    "pnconfig.subscribe_key = 'demo'\n",
    "pnconfig.publish_key = 'demo'\n",
    "\n",
    "pubnub = PubNubTwisted(pnconfig)\n",
    "\n",
    "@inlineCallbacks\n",
    "def main():\n",
    "    envelope = yield pubnub.publish()\\\n",
    "        .channel(\"my_channel\")\\\n",
    "        .message(['hello', 'there'])\\\n",
    "        .should_store(True)\\\n",
    "        .use_post(True)\\\n",
    "        .deferred()\n",
    "        \n",
    "    print envelope.result\n",
    "    \n",
    "    pubnub.stop()"
   ]
  },
  {
   "cell_type": "code",
   "execution_count": 2,
   "metadata": {
    "collapsed": false
   },
   "outputs": [
    {
     "data": {
      "text/plain": [
       "<Deferred at 0x7f313b3c9200>"
      ]
     },
     "execution_count": 2,
     "metadata": {},
     "output_type": "execute_result"
    }
   ],
   "source": [
    "main()"
   ]
  },
  {
   "cell_type": "code",
   "execution_count": null,
   "metadata": {
    "collapsed": false
   },
   "outputs": [
    {
     "name": "stdout",
     "output_type": "stream",
     "text": [
      "<pubnub.models.consumer.pubsub.PNPublishResult object at 0x7f313b383690>\n"
     ]
    }
   ],
   "source": [
    "pubnub.start()"
   ]
  },
  {
   "cell_type": "code",
   "execution_count": null,
   "metadata": {
    "collapsed": true
   },
   "outputs": [],
   "source": []
  }
 ],
 "metadata": {
  "kernelspec": {
   "display_name": "Python [Root]",
   "language": "python",
   "name": "Python [Root]"
  },
  "language_info": {
   "codemirror_mode": {
    "name": "ipython",
    "version": 2
   },
   "file_extension": ".py",
   "mimetype": "text/x-python",
   "name": "python",
   "nbconvert_exporter": "python",
   "pygments_lexer": "ipython2",
   "version": "2.7.12"
  }
 },
 "nbformat": 4,
 "nbformat_minor": 0
}
