{
 "cells": [
  {
   "cell_type": "code",
   "execution_count": null,
   "metadata": {
    "collapsed": false
   },
   "outputs": [
    {
     "name": "stdout",
     "output_type": "stream",
     "text": [
      "<pubnub.models.consumer.pubsub.PNMessageResult object at 0x7f0f5c238a90>\n"
     ]
    }
   ],
   "source": [
    "from pubnub.enums import PNStatusCategory\n",
    "from pubnub.pubnub_twisted import PubNubTwisted as PubNub\n",
    "from pubnub.pnconfiguration import PNConfiguration\n",
    "from twisted.internet import reactor\n",
    "from pubnub.callbacks import SubscribeCallback\n",
    "\n",
    "def main():\n",
    "    pnconf = PNConfiguration()\n",
    "    pnconf.subscribe_key = 'demo'\n",
    "    pnconf.publish_key = 'demo'\n",
    "\n",
    "    pubnub = PubNub(pnconf)\n",
    "\n",
    "    def my_publish_callback(result, status):\n",
    "        # Check whether request successfully completed or not\n",
    "        if not status.is_error():\n",
    "            envelope = result # Message successfully published to specified channel.\n",
    "        else:\n",
    "            pass  # Handle message publish error. Check 'category' property to find out possible issue\n",
    "            # because of which request did fail.\n",
    "            # Request can be resent using: [status retry];\n",
    "\n",
    "    class MySubscribeCallback(SubscribeCallback):\n",
    "        def presence(self, pubnub, presence):\n",
    "            pass  # handle incoming presence data\n",
    "\n",
    "        def status(self, pubnub, status):\n",
    "            if status.category == PNStatusCategory.PNUnexpectedDisconnectCategory:\n",
    "                pass  # This event happens when radio / connectivity is lost\n",
    "\n",
    "            elif status.category == PNStatusCategory.PNConnectedCategory:\n",
    "                # Connect event. You can do stuff like publish, and know you'll get it.\n",
    "                # Or just use the connected event to confirm you are subscribed for\n",
    "                # UI / internal notifications, etc\n",
    "                pubnub.publish().channel(\"awesome_channel\").message(\"Hello World!\").async(my_publish_callback)\n",
    "\n",
    "            elif status.category == PNStatusCategory.PNReconnectedCategory:\n",
    "                pass\n",
    "                # Happens as part of our regular operation. This event happens when\n",
    "                # radio / connectivity is lost, then regained.\n",
    "            elif status.category == PNStatusCategory.PNDecryptionErrorCategory:\n",
    "                pass\n",
    "                # Handle message decryption error. Probably client configured to\n",
    "                # encrypt messages and on live data feed it received plain text.\n",
    "\n",
    "        def message(self, pubnub, message):\n",
    "            print(message)\n",
    "\n",
    "    pubnub.add_listener(MySubscribeCallback())\n",
    "    pubnub.subscribe().channels('awesome_channel').execute()\n",
    "\n",
    "    reactor.callLater(30, pubnub.stop)  # stop reactor loop after 30 seconds\n",
    "\n",
    "    pubnub.start()\n",
    "\n",
    "if __name__ == '__main__':\n",
    "    main()"
   ]
  },
  {
   "cell_type": "code",
   "execution_count": null,
   "metadata": {
    "collapsed": false
   },
   "outputs": [],
   "source": [
    "main()"
   ]
  },
  {
   "cell_type": "code",
   "execution_count": null,
   "metadata": {
    "collapsed": true
   },
   "outputs": [],
   "source": []
  }
 ],
 "metadata": {
  "kernelspec": {
   "display_name": "Python [Root]",
   "language": "python",
   "name": "Python [Root]"
  },
  "language_info": {
   "codemirror_mode": {
    "name": "ipython",
    "version": 2
   },
   "file_extension": ".py",
   "mimetype": "text/x-python",
   "name": "python",
   "nbconvert_exporter": "python",
   "pygments_lexer": "ipython2",
   "version": "2.7.12"
  }
 },
 "nbformat": 4,
 "nbformat_minor": 0
}
