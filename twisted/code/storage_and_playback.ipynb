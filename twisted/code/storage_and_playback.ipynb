{
 "cells": [
  {
   "cell_type": "code",
   "execution_count": 1,
   "metadata": {
    "collapsed": true
   },
   "outputs": [],
   "source": [
    "import logging\n",
    "\n",
    "from pubnub.pnconfiguration import PNConfiguration\n",
    "from pubnub.pubnub_twisted import PubNubTwisted\n",
    "from twisted.internet import reactor\n",
    "from twisted.internet.defer import inlineCallbacks\n",
    "\n",
    "pnconfig = PNConfiguration()\n",
    "\n",
    "pnconfig.publish_key = \"pub-c-98863562-19a6-4760-bf0b-d537d1f5c582\"\n",
    "pnconfig.subscribe_key = \"sub-c-7ba2ac4c-4836-11e6-85a4-0619f8945a4f\"\n",
    "pnconfig.secret_key = \"sec-c-MGFkMjQxYjMtNTUxZC00YzE3LWFiZGYtNzUwMjdjNmM3NDhk\"\n",
    "pnconfig.auth_key = \"blah\"\n",
    "pnconfig.enable_subscribe = False\n",
    "\n",
    "pubnub = PubNubTwisted(pnconfig)\n",
    "\n",
    "@inlineCallbacks\n",
    "def grant():\n",
    "    envelope = yield pubnub.grant().auth_keys(\"blah\").channels(\"history_channel\").read(True).write(True).ttl(0).deferred()\n",
    "    print(\"Grant access: %r\" % envelope.status.is_error())\n",
    "\n",
    "logger = logging.getLogger(\"pubnub\")\n",
    "\n",
    "@inlineCallbacks\n",
    "def publish500():\n",
    "    for i in range(0, 500):\n",
    "        envelope = yield pubnub.publish()\\\n",
    "            .message(['message#', i])\\\n",
    "            .channel('history_channel')\\\n",
    "            .should_store(True)\\\n",
    "            .deferred()\n",
    "\n",
    "        print(\"%d: %s\" % (i, envelope.status.is_error()))\n",
    "\n",
    "@inlineCallbacks\n",
    "def get_all_messages(start_tt):\n",
    "    envelope = yield pubnub.history()\\\n",
    "        .channel('history_channel')\\\n",
    "        .count(100)\\\n",
    "        .start(start_tt)\\\n",
    "        .deferred()\n",
    "\n",
    "    msgs = envelope.result.messages\n",
    "    start = envelope.result.start_timetoken\n",
    "    end = envelope.result.end_timetoken\n",
    "    count = len(msgs)\n",
    "    \n",
    "    if count > 0:\n",
    "        print(\"%d\" % count)\n",
    "        print(\"start %d\" % start)\n",
    "        print(\"end %d\" % end)\n",
    "\n",
    "    if count == 100:\n",
    "        yield get_all_messages(start)"
   ]
  },
  {
   "cell_type": "code",
   "execution_count": 2,
   "metadata": {
    "collapsed": false
   },
   "outputs": [],
   "source": [
    "#grant()"
   ]
  },
  {
   "cell_type": "code",
   "execution_count": 3,
   "metadata": {
    "collapsed": false
   },
   "outputs": [],
   "source": [
    "#publish500()"
   ]
  },
  {
   "cell_type": "code",
   "execution_count": null,
   "metadata": {
    "collapsed": false
   },
   "outputs": [
    {
     "data": {
      "text/plain": [
       "<Deferred at 0x7f83751c73b0>"
      ]
     },
     "execution_count": 4,
     "metadata": {},
     "output_type": "execute_result"
    }
   ],
   "source": [
    "get_all_messages(14774934905189288)"
   ]
  },
  {
   "cell_type": "code",
   "execution_count": null,
   "metadata": {
    "collapsed": false
   },
   "outputs": [
    {
     "name": "stdout",
     "output_type": "stream",
     "text": [
      "100\n",
      "start 14774934847062694\n",
      "end 14774934904772232\n"
     ]
    }
   ],
   "source": [
    "pubnub.start()"
   ]
  },
  {
   "cell_type": "code",
   "execution_count": null,
   "metadata": {
    "collapsed": true
   },
   "outputs": [],
   "source": []
  }
 ],
 "metadata": {
  "kernelspec": {
   "display_name": "Python [Root]",
   "language": "python",
   "name": "Python [Root]"
  },
  "language_info": {
   "codemirror_mode": {
    "name": "ipython",
    "version": 2
   },
   "file_extension": ".py",
   "mimetype": "text/x-python",
   "name": "python",
   "nbconvert_exporter": "python",
   "pygments_lexer": "ipython2",
   "version": "2.7.12"
  }
 },
 "nbformat": 4,
 "nbformat_minor": 0
}
